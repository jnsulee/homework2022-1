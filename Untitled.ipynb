{
 "cells": [
  {
   "cell_type": "markdown",
   "id": "7e273b4f",
   "metadata": {
    "id": "7e273b4f"
   },
   "source": [
    "# Dataset Load"
   ]
  },
  {
   "cell_type": "code",
   "execution_count": 2,
   "id": "08464956",
   "metadata": {
    "id": "08464956",
    "scrolled": true
   },
   "outputs": [],
   "source": [
    "from tensorflow.keras import datasets\n",
    "import pandas as pd\n",
    "import numpy as np\n",
    "from tensorflow.keras.utils import to_categorical\n",
    "import random\n",
    "\n",
    "#load & split data\n",
    "data  = datasets.mnist.load_data() #((data, label)_train, (data, label)_test)\n",
    "(x_train, y_train),(x_test,y_test) = data"
   ]
  },
  {
   "cell_type": "code",
   "execution_count": 5,
   "id": "3fbe922b",
   "metadata": {
    "id": "3fbe922b"
   },
   "outputs": [],
   "source": [
    "idx = []\n",
    "\n",
    "# 0~9에 해당하는 y_test 내의 인덱스 저장 -> idx\n",
    "for id in range(10):\n",
    "    for i in range(y_test.shape[0]):\n",
    "        if y_test[i] == id:\n",
    "            idx.append(i)\n",
    "            break"
   ]
  },
  {
   "cell_type": "markdown",
   "id": "5c94190d",
   "metadata": {
    "id": "5c94190d"
   },
   "source": [
    "# Preprocessing"
   ]
  },
  {
   "cell_type": "code",
   "execution_count": 59,
   "id": "f1615603",
   "metadata": {
    "id": "f1615603",
    "outputId": "b2ff7938-c700-467b-f259-185d59572fde",
    "scrolled": false
   },
   "outputs": [
    {
     "name": "stdout",
     "output_type": "stream",
     "text": [
      "(60000, 784) (60000, 10) (10000, 784) (10000, 10)\n"
     ]
    }
   ],
   "source": [
    "print(x_train.shape, y_train.shape, x_test.shape, y_test.shape)"
   ]
  },
  {
   "cell_type": "code",
   "execution_count": 7,
   "id": "b9c4ca61",
   "metadata": {
    "id": "b9c4ca61"
   },
   "outputs": [],
   "source": [
    "#차원 변경 28*28 -> 784\n",
    "x_train = np.reshape(x_train, (60000,784))\n",
    "x_test = np.reshape(x_test, (10000,784))\n",
    "\n",
    "\n",
    "#연속성 제거 one-hot\n",
    "y_train = to_categorical(y_train)\n",
    "y_test= to_categorical(y_test)"
   ]
  },
  {
   "cell_type": "markdown",
   "id": "aa5c475a",
   "metadata": {
    "id": "aa5c475a"
   },
   "source": [
    "# Activaion ftn"
   ]
  },
  {
   "cell_type": "code",
   "execution_count": 98,
   "id": "58314d2e",
   "metadata": {
    "id": "58314d2e"
   },
   "outputs": [
    {
     "name": "stdout",
     "output_type": "stream",
     "text": [
      "(10, 1)\n"
     ]
    },
    {
     "ename": "NameError",
     "evalue": "name 'exp_a' is not defined",
     "output_type": "error",
     "traceback": [
      "\u001b[1;31m---------------------------------------------------------------------------\u001b[0m",
      "\u001b[1;31mNameError\u001b[0m                                 Traceback (most recent call last)",
      "\u001b[1;32mC:\\Users\\Public\\Documents\\ESTsoft\\CreatorTemp/ipykernel_13196/1619744414.py\u001b[0m in \u001b[0;36m<module>\u001b[1;34m\u001b[0m\n\u001b[0;32m     30\u001b[0m \u001b[0mZ\u001b[0m \u001b[1;33m=\u001b[0m \u001b[0mRelu\u001b[0m\u001b[1;33m.\u001b[0m\u001b[0mforward\u001b[0m\u001b[1;33m(\u001b[0m\u001b[0mnp\u001b[0m\u001b[1;33m.\u001b[0m\u001b[0mmatmul\u001b[0m\u001b[1;33m(\u001b[0m\u001b[0mX\u001b[0m\u001b[1;33m,\u001b[0m\u001b[0mW_1\u001b[0m\u001b[1;33m)\u001b[0m\u001b[1;33m+\u001b[0m\u001b[0mb_1\u001b[0m\u001b[1;33m)\u001b[0m\u001b[1;33m\u001b[0m\u001b[1;33m\u001b[0m\u001b[0m\n\u001b[0;32m     31\u001b[0m \u001b[0mprint\u001b[0m\u001b[1;33m(\u001b[0m\u001b[0msoftmax\u001b[0m\u001b[1;33m(\u001b[0m\u001b[0mnp\u001b[0m\u001b[1;33m.\u001b[0m\u001b[0mmatmul\u001b[0m\u001b[1;33m(\u001b[0m\u001b[0mZ\u001b[0m\u001b[1;33m,\u001b[0m\u001b[0mW_2\u001b[0m\u001b[1;33m)\u001b[0m\u001b[1;33m+\u001b[0m\u001b[0mb_2\u001b[0m\u001b[1;33m)\u001b[0m\u001b[1;33m.\u001b[0m\u001b[0mshape\u001b[0m\u001b[1;33m)\u001b[0m\u001b[1;33m\u001b[0m\u001b[1;33m\u001b[0m\u001b[0m\n\u001b[1;32m---> 32\u001b[1;33m \u001b[0mexp_a\u001b[0m\u001b[1;33m[\u001b[0m\u001b[1;36m0\u001b[0m\u001b[1;33m]\u001b[0m \u001b[1;33m*\u001b[0m \u001b[0msum_exp_a\u001b[0m\u001b[1;33m[\u001b[0m\u001b[1;36m0\u001b[0m\u001b[1;33m]\u001b[0m\u001b[1;33m\u001b[0m\u001b[1;33m\u001b[0m\u001b[0m\n\u001b[0m",
      "\u001b[1;31mNameError\u001b[0m: name 'exp_a' is not defined"
     ]
    }
   ],
   "source": [
    "#Relu -googling/softmax\n",
    "class Relu:\n",
    "  def __init__(self):\n",
    "      self.mask = None\n",
    "      \n",
    "  def forward(self,x):\n",
    "      self.mask = (x <= 0)\n",
    "      out = x.copy()    \n",
    "      out[self.mask] = 0 \n",
    "      return out\n",
    "\n",
    "  def backward(self,dout):\n",
    "      dout[self.mask] = 0\n",
    "      dx = dout \n",
    "      return dx\n",
    "Relu = Relu()\n",
    "\n",
    "#softmax\n",
    "def softmax(a) :\n",
    "    c = np.max(a, axis=1).reshape(-1,1)\n",
    "    c_array = np.tile(c, reps=[1,10])\n",
    "    exp_a = np.exp(a-c_array)\n",
    "    \n",
    "    sum_exp_a = exp_a.sum(axis=1)\n",
    "    y = exp_a[0] * sum_exp_a[0]\n",
    "    for i in range(1,60000):\n",
    "        y = np.vstack(exp_a[i] * sum_exp_a[i])\n",
    "    return y"
   ]
  },
  {
   "cell_type": "markdown",
   "id": "1e5e0016",
   "metadata": {
    "id": "1e5e0016"
   },
   "source": [
    "# Modeling & Training"
   ]
  },
  {
   "cell_type": "code",
   "execution_count": 91,
   "id": "12e3ca7d",
   "metadata": {
    "id": "12e3ca7d",
    "scrolled": false
   },
   "outputs": [],
   "source": [
    "W_1 = np.random.rand(784,300)\n",
    "b_1 = 0.5\n",
    "W_2 = np.random.rand(300,10)\n",
    "b_2 = 0.5"
   ]
  },
  {
   "cell_type": "code",
   "execution_count": 92,
   "id": "38c66d3a",
   "metadata": {},
   "outputs": [],
   "source": [
    "#epoch function\n",
    "def foward(X):\n",
    "    Z = Relu.forward(np.matmul(X,W_1)+b_1)\n",
    "    Y = softmax(np.matmul(Z,W_2)+b_2)\n",
    "    return Y\n",
    "\n",
    "def epoch(X):\n",
    "    Y = foward(X)\n",
    "    E = 0\n",
    "    for i in range(60000):\n",
    "        E += np.sum((Y[i]-y_train[i])**2) * 0.5\n",
    "    return E"
   ]
  },
  {
   "cell_type": "markdown",
   "id": "f050b7fd",
   "metadata": {},
   "source": [
    "# Backpropagation"
   ]
  },
  {
   "cell_type": "code",
   "execution_count": 93,
   "id": "d707df9c",
   "metadata": {},
   "outputs": [],
   "source": [
    "learning_rate = 0.01\n",
    "h = 0.0001\n",
    "def grad(b1):\n",
    "    delta = Y - y_train\n",
    "    return delta * Relu.backward(np.matmul(X,W_1)+b_1)"
   ]
  },
  {
   "cell_type": "code",
   "execution_count": 94,
   "id": "0b090afc",
   "metadata": {
    "id": "0b090afc",
    "outputId": "13cf4cbc-d017-4ce4-e117-9201c8fa8a70"
   },
   "outputs": [
    {
     "name": "stdout",
     "output_type": "stream",
     "text": [
      "processing\n"
     ]
    },
    {
     "ename": "IndexError",
     "evalue": "index 10 is out of bounds for axis 0 with size 10",
     "output_type": "error",
     "traceback": [
      "\u001b[1;31m---------------------------------------------------------------------------\u001b[0m",
      "\u001b[1;31mIndexError\u001b[0m                                Traceback (most recent call last)",
      "\u001b[1;32mC:\\Users\\Public\\Documents\\ESTsoft\\CreatorTemp/ipykernel_13196/3035948170.py\u001b[0m in \u001b[0;36m<module>\u001b[1;34m\u001b[0m\n\u001b[0;32m      4\u001b[0m \u001b[0mX\u001b[0m \u001b[1;33m=\u001b[0m \u001b[0mx_train\u001b[0m\u001b[1;33m\u001b[0m\u001b[1;33m\u001b[0m\u001b[0m\n\u001b[0;32m      5\u001b[0m \u001b[0mnp\u001b[0m\u001b[1;33m.\u001b[0m\u001b[0mrandom\u001b[0m\u001b[1;33m.\u001b[0m\u001b[0mshuffle\u001b[0m\u001b[1;33m(\u001b[0m\u001b[0mX\u001b[0m\u001b[1;33m)\u001b[0m\u001b[1;33m\u001b[0m\u001b[1;33m\u001b[0m\u001b[0m\n\u001b[1;32m----> 6\u001b[1;33m \u001b[0mepoch\u001b[0m\u001b[1;33m(\u001b[0m\u001b[0mX\u001b[0m\u001b[1;33m)\u001b[0m\u001b[1;33m\u001b[0m\u001b[1;33m\u001b[0m\u001b[0m\n\u001b[0m",
      "\u001b[1;32mC:\\Users\\Public\\Documents\\ESTsoft\\CreatorTemp/ipykernel_13196/3201883428.py\u001b[0m in \u001b[0;36mepoch\u001b[1;34m(X)\u001b[0m\n\u001b[0;32m      9\u001b[0m     \u001b[0mE\u001b[0m \u001b[1;33m=\u001b[0m \u001b[1;36m0\u001b[0m\u001b[1;33m\u001b[0m\u001b[1;33m\u001b[0m\u001b[0m\n\u001b[0;32m     10\u001b[0m     \u001b[1;32mfor\u001b[0m \u001b[0mi\u001b[0m \u001b[1;32min\u001b[0m \u001b[0mrange\u001b[0m\u001b[1;33m(\u001b[0m\u001b[1;36m60000\u001b[0m\u001b[1;33m)\u001b[0m\u001b[1;33m:\u001b[0m\u001b[1;33m\u001b[0m\u001b[1;33m\u001b[0m\u001b[0m\n\u001b[1;32m---> 11\u001b[1;33m         \u001b[0mE\u001b[0m \u001b[1;33m+=\u001b[0m \u001b[0mnp\u001b[0m\u001b[1;33m.\u001b[0m\u001b[0msum\u001b[0m\u001b[1;33m(\u001b[0m\u001b[1;33m(\u001b[0m\u001b[0mY\u001b[0m\u001b[1;33m[\u001b[0m\u001b[0mi\u001b[0m\u001b[1;33m]\u001b[0m\u001b[1;33m-\u001b[0m\u001b[0my_train\u001b[0m\u001b[1;33m[\u001b[0m\u001b[0mi\u001b[0m\u001b[1;33m]\u001b[0m\u001b[1;33m)\u001b[0m\u001b[1;33m**\u001b[0m\u001b[1;36m2\u001b[0m\u001b[1;33m)\u001b[0m \u001b[1;33m*\u001b[0m \u001b[1;36m0.5\u001b[0m\u001b[1;33m\u001b[0m\u001b[1;33m\u001b[0m\u001b[0m\n\u001b[0m\u001b[0;32m     12\u001b[0m     \u001b[1;32mreturn\u001b[0m \u001b[0mE\u001b[0m\u001b[1;33m\u001b[0m\u001b[1;33m\u001b[0m\u001b[0m\n",
      "\u001b[1;31mIndexError\u001b[0m: index 10 is out of bounds for axis 0 with size 10"
     ]
    }
   ],
   "source": [
    "print('processing')\n",
    "\n",
    "#[epoch1]\n",
    "X = x_train\n",
    "np.random.shuffle(X)\n",
    "epoch(X)"
   ]
  },
  {
   "cell_type": "code",
   "execution_count": null,
   "id": "e445e766",
   "metadata": {
    "id": "e445e766",
    "outputId": "167b5ac2-dd3b-4049-9c1b-f406b1054d75"
   },
   "outputs": [],
   "source": [
    "# W_1, W_2, b_1, b_2\n",
    "learning rate=0.01\n",
    "h=0.0001\n",
    "E(W_1+h)-E(W_1-h) / 2h"
   ]
  },
  {
   "cell_type": "code",
   "execution_count": 3,
   "id": "450bcb59",
   "metadata": {},
   "outputs": [
    {
     "data": {
      "text/plain": [
       "(60000, 10)"
      ]
     },
     "execution_count": 3,
     "metadata": {},
     "output_type": "execute_result"
    }
   ],
   "source": [
    "#연습장\n",
    "a = np.array(range(600000)).reshape(-1,10)\n",
    "c = np.max(a, axis=1).reshape(-1,1)\n",
    "c_array = np.tile(c, reps=[1,10])\n",
    "exp_a = np.exp(a-c_array)\n",
    "sum_exp_a = exp_a.sum(axis=1)\n",
    "y = exp_a[0] * sum_exp_a[0]\n",
    "for i in range(1,60000):\n",
    "    y =np.vstack((y,exp_a[i] * sum_exp_a[i]))\n",
    "y.shape"
   ]
  },
  {
   "cell_type": "code",
   "execution_count": null,
   "id": "cd3cece7",
   "metadata": {},
   "outputs": [],
   "source": []
  }
 ],
 "metadata": {
  "colab": {
   "collapsed_sections": [],
   "name": "Untitled.ipynb",
   "provenance": []
  },
  "kernelspec": {
   "display_name": "Python 3 (ipykernel)",
   "language": "python",
   "name": "python3"
  },
  "language_info": {
   "codemirror_mode": {
    "name": "ipython",
    "version": 3
   },
   "file_extension": ".py",
   "mimetype": "text/x-python",
   "name": "python",
   "nbconvert_exporter": "python",
   "pygments_lexer": "ipython3",
   "version": "3.9.7"
  }
 },
 "nbformat": 4,
 "nbformat_minor": 5
}
