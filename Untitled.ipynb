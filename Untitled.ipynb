{
 "cells": [
  {
   "cell_type": "markdown",
   "id": "7e273b4f",
   "metadata": {
    "id": "7e273b4f"
   },
   "source": [
    "# Dataset Load"
   ]
  },
  {
   "cell_type": "code",
   "execution_count": 45,
   "id": "08464956",
   "metadata": {
    "id": "08464956"
   },
   "outputs": [],
   "source": [
    "from tensorflow.keras import datasets\n",
    "import pandas as pd\n",
    "import numpy as np\n",
    "from tensorflow.keras.utils import to_categorical\n",
    "import random\n",
    "import matplotlib.pyplot as plt\n",
    "\n",
    "#load & split data\n",
    "data  = datasets.mnist.load_data() #((data, label)_train, (data, label)_test)\n",
    "(x_train, y_train),(x_test,y_test) = data\n",
    "x_train = x_train.astype(np.float16)\n",
    "y_train = y_train.astype(np.float16)\n",
    "x_test = x_test.astype(np.float16)\n",
    "y_test = y_test.astype(np.float16)"
   ]
  },
  {
   "cell_type": "code",
   "execution_count": 46,
   "id": "3fbe922b",
   "metadata": {
    "id": "3fbe922b"
   },
   "outputs": [],
   "source": [
    "idx = []\n",
    "\n",
    "# 0~9에 해당하는 y_test 내의 인덱스 저장 -> idx\n",
    "for id in range(10):\n",
    "    for i in range(y_test.shape[0]):\n",
    "        if y_test[i] == id:\n",
    "            idx.append(i)\n",
    "            break"
   ]
  },
  {
   "cell_type": "markdown",
   "id": "5c94190d",
   "metadata": {
    "id": "5c94190d"
   },
   "source": [
    "# Preprocessing"
   ]
  },
  {
   "cell_type": "code",
   "execution_count": 47,
   "id": "f1615603",
   "metadata": {
    "id": "f1615603",
    "outputId": "b2ff7938-c700-467b-f259-185d59572fde",
    "scrolled": false
   },
   "outputs": [
    {
     "name": "stdout",
     "output_type": "stream",
     "text": [
      "(60000, 28, 28) (60000,) (10000, 28, 28) (10000,)\n"
     ]
    }
   ],
   "source": [
    "print(x_train.shape, y_train.shape, x_test.shape, y_test.shape)\n",
    "#plt.imshow(x_train[10])"
   ]
  },
  {
   "cell_type": "code",
   "execution_count": 48,
   "id": "b9c4ca61",
   "metadata": {
    "id": "b9c4ca61",
    "scrolled": false
   },
   "outputs": [],
   "source": [
    "#차원 변경 28*28 -> 784\n",
    "x_train = np.reshape(x_train, (60000,784)).T\n",
    "x_test = np.reshape(x_test, (10000,784)).T\n",
    "\n",
    "\n",
    "#연속성 제거 one-hot\n",
    "y_train = to_categorical(y_train).reshape(60000,10).T\n",
    "y_test= to_categorical(y_test)\n"
   ]
  },
  {
   "cell_type": "code",
   "execution_count": 49,
   "id": "07e1243c",
   "metadata": {},
   "outputs": [
    {
     "name": "stdout",
     "output_type": "stream",
     "text": [
      "(784, 60000) (10, 60000) (784, 10000) (10000, 10)\n",
      "[0. 1. 0. 0. 0. 0. 0. 0. 0. 0.]\n"
     ]
    }
   ],
   "source": [
    "print(x_train.shape, y_train.shape, x_test.shape, y_test.shape)\n",
    "print(y_train[:,3])"
   ]
  },
  {
   "cell_type": "markdown",
   "id": "aa5c475a",
   "metadata": {
    "id": "aa5c475a"
   },
   "source": [
    "# Activaion ftn"
   ]
  },
  {
   "cell_type": "code",
   "execution_count": 153,
   "id": "58314d2e",
   "metadata": {
    "id": "58314d2e"
   },
   "outputs": [],
   "source": [
    "#Relu -googling/softmax\n",
    "class Relu:\n",
    "    def __init__(self):\n",
    "        self.mask = None\n",
    "      \n",
    "    def forward(self,x):\n",
    "        self.mask = (x <= 0)\n",
    "        out = x.copy()    \n",
    "        out[self.mask] = 0 \n",
    "        return out\n",
    "    \n",
    "    def backward(self, dout):\n",
    "        self.mask[self.mask > 0] = 1\n",
    "        return self.mask * dout\n",
    "\n",
    "#softmax\n",
    "class Softmax: #input 10*60000\n",
    "    def __ini__(self):\n",
    "        self.exp_a = \"\"\n",
    "        self.sum_exp_a = \"\"\n",
    "    \n",
    "    def forward(self,a):\n",
    "        c = np.max(a, axis=0).reshape(1,-1)\n",
    "        c_array = np.tile(c, reps=[10,1])\n",
    "        self.exp_a = np.exp(a-c_array)\n",
    "        self.sum_exp_a = np.reciprocal(np.tile(self.exp_a.sum(axis=0).reshape(1,-1), reps=[10,1]))\n",
    "        y=np.multiply(self.exp_a,self.sum_exp_a)\n",
    "        return y\n",
    "    \n",
    "    def backward(self,a):\n",
    "        c = np.max(a, axis=0).reshape(1,-1)\n",
    "        c_array = np.tile(c, reps=[10,1])\n",
    "        self.exp_a = np.exp(a-c_array)\n",
    "        self.sum_exp_a = np.reciprocal(np.tile(self.exp_a.sum(axis=0).reshape(1,-1), reps=[10,1]))\n",
    "        round = self.sum_exp_a - (self.sum_exp_a **2)\n",
    "        return round"
   ]
  },
  {
   "cell_type": "markdown",
   "id": "1e5e0016",
   "metadata": {
    "id": "1e5e0016"
   },
   "source": [
    "# Modeling & Training"
   ]
  },
  {
   "cell_type": "code",
   "execution_count": 154,
   "id": "12e3ca7d",
   "metadata": {
    "id": "12e3ca7d"
   },
   "outputs": [],
   "source": [
    "W_1 = np.random.rand(300,784)\n",
    "b_1 = np.random.rand(300,1) \n",
    "W_2 = np.random.rand(10,300) * 0.002\n",
    "b_2 = np.random.rand(10,1) * 0.002"
   ]
  },
  {
   "cell_type": "code",
   "execution_count": 161,
   "id": "38c66d3a",
   "metadata": {},
   "outputs": [],
   "source": [
    "#epoch function\n",
    "class Epoch:\n",
    "    def __init__(self):\n",
    "        self.Z= \"\"\n",
    "        self.Y= \"\"\n",
    "        self.E= \"\"\n",
    "        \n",
    "    def forward(self,X):\n",
    "        self.Z = Relu1.forward(np.matmul(W_1,X)+b_1) #784*60k -> 300*60k\n",
    "        self.Y = Softmax1.forward(np.matmul(W_2,self.Z)+b_2) #300*60k -> 10*60k\n",
    "        self.E = np.sum((self.Y-y_train)*(self.Y-y_train)) * 0.5 # scalar\n",
    "        print('Error= ',self.E)\n",
    "        return self.E\n",
    "\n",
    "    def backward(self):\n",
    "        delta = self.Y-y_train\n",
    "        #b2\n",
    "        grad_b2 = -np.vdot(delta, Softmax1.backward(np.matmul(W_2,self.Z)+b_2))\n",
    "        #W2\n",
    "        tmp_Z = np.copy(self.Z)\n",
    "        tmp_Z = tmp_Z.reshape(300,-1).T\n",
    "        tmp = delta * Softmax1.backward(np.matmul(W_2,self.Z)+b_2) #10*60k\n",
    "        \n",
    "        grad_W2 = tmp[:,0]*tmp_Z[:,0].T\n",
    "        for i in range(1, 60000):\n",
    "        grad_W2 = np.stack(grad_W2, tmp[:,i]*tmp_Z[:,i].T,axis=2)\n",
    "        #   w*1  * z1,...z300\n",
    "        #의도\n",
    "        #w11 ... w1300 z1, z2 ,... z300 -> S1*z1, S1*z2, ... S1300*z300 (tmp[:,0]이 S1,...S10)\n",
    "        #w21 ... w2300 \n",
    "        #...\n",
    "        #w101 ... w10300\n",
    "        \n",
    "        #실제: Z가 6만개나 있음\n",
    "        grad_W2 = -np.sum(tmp_Z * tmp)\n",
    "        #b1\n",
    "        tmp_W_2 = np.copy(W_2)\n",
    "        tmp_W_2 = tmp_W_2.reshape(-1,300).T\n",
    "        tmp2 = delta * Softmax1.backward(np.matmul(W_2,self.Z)+b_2)\n",
    "        #print(np.sum(tmp2**2)==0)\n",
    "        grad_b1 = -np.sum(np.matmul(tmp_W_2,tmp2) * Relu1.backward(np.matmul(W_1,X)+b_1)) #300*60k ->scalar\n",
    "        #W1\n",
    "        tmp_X = np.copy(X)\n",
    "        tmp_X = tmp_X.reshape(784,-1).T\n",
    "        grad_W1 = -np.sum(np.matmul(np.matmul(tmp_W_2,tmp2) * Relu1.backward(np.matmul(W_1,X)+b_1),tmp_X))\n",
    "        return grad_b2,grad_W2,grad_b1,grad_W1"
   ]
  },
  {
   "cell_type": "markdown",
   "id": "f050b7fd",
   "metadata": {},
   "source": [
    "# Training"
   ]
  },
  {
   "cell_type": "code",
   "execution_count": 162,
   "id": "0b090afc",
   "metadata": {
    "id": "0b090afc",
    "outputId": "13cf4cbc-d017-4ce4-e117-9201c8fa8a70",
    "scrolled": false
   },
   "outputs": [
    {
     "name": "stdout",
     "output_type": "stream",
     "text": [
      "processing\n",
      "Error=  54081.99999582856\n",
      "(10, 60000)\n"
     ]
    },
    {
     "ename": "ValueError",
     "evalue": "operands could not be broadcast together with shapes (60000,300) (10,60000) ",
     "output_type": "error",
     "traceback": [
      "\u001b[1;31m---------------------------------------------------------------------------\u001b[0m",
      "\u001b[1;31mValueError\u001b[0m                                Traceback (most recent call last)",
      "\u001b[1;32m~\\AppData\\Local\\Temp/ipykernel_17760/2727519607.py\u001b[0m in \u001b[0;36m<module>\u001b[1;34m\u001b[0m\n\u001b[0;32m     11\u001b[0m \u001b[0mEpoch1\u001b[0m \u001b[1;33m=\u001b[0m \u001b[0mEpoch\u001b[0m\u001b[1;33m(\u001b[0m\u001b[1;33m)\u001b[0m\u001b[1;33m\u001b[0m\u001b[1;33m\u001b[0m\u001b[0m\n\u001b[0;32m     12\u001b[0m \u001b[0mEpoch1\u001b[0m\u001b[1;33m.\u001b[0m\u001b[0mforward\u001b[0m\u001b[1;33m(\u001b[0m\u001b[0mX\u001b[0m\u001b[1;33m)\u001b[0m\u001b[1;33m\u001b[0m\u001b[1;33m\u001b[0m\u001b[0m\n\u001b[1;32m---> 13\u001b[1;33m \u001b[0mtheta\u001b[0m \u001b[1;33m=\u001b[0m \u001b[0mEpoch1\u001b[0m\u001b[1;33m.\u001b[0m\u001b[0mbackward\u001b[0m\u001b[1;33m(\u001b[0m\u001b[1;33m)\u001b[0m\u001b[1;33m\u001b[0m\u001b[1;33m\u001b[0m\u001b[0m\n\u001b[0m\u001b[0;32m     14\u001b[0m \u001b[0mb_1\u001b[0m \u001b[1;33m-=\u001b[0m \u001b[0mlearningrate\u001b[0m \u001b[1;33m*\u001b[0m \u001b[0mtheta\u001b[0m\u001b[1;33m[\u001b[0m\u001b[1;36m2\u001b[0m\u001b[1;33m]\u001b[0m\u001b[1;33m\u001b[0m\u001b[1;33m\u001b[0m\u001b[0m\n\u001b[0;32m     15\u001b[0m \u001b[0mb_2\u001b[0m \u001b[1;33m-=\u001b[0m \u001b[0mlearningrate\u001b[0m \u001b[1;33m*\u001b[0m \u001b[0mtheta\u001b[0m\u001b[1;33m[\u001b[0m\u001b[1;36m0\u001b[0m\u001b[1;33m]\u001b[0m\u001b[1;33m\u001b[0m\u001b[1;33m\u001b[0m\u001b[0m\n",
      "\u001b[1;32m~\\AppData\\Local\\Temp/ipykernel_17760/465068048.py\u001b[0m in \u001b[0;36mbackward\u001b[1;34m(self)\u001b[0m\n\u001b[0;32m     22\u001b[0m         \u001b[0mtmp\u001b[0m \u001b[1;33m=\u001b[0m \u001b[0mdelta\u001b[0m \u001b[1;33m*\u001b[0m \u001b[0mSoftmax1\u001b[0m\u001b[1;33m.\u001b[0m\u001b[0mbackward\u001b[0m\u001b[1;33m(\u001b[0m\u001b[0mnp\u001b[0m\u001b[1;33m.\u001b[0m\u001b[0mmatmul\u001b[0m\u001b[1;33m(\u001b[0m\u001b[0mW_2\u001b[0m\u001b[1;33m,\u001b[0m\u001b[0mself\u001b[0m\u001b[1;33m.\u001b[0m\u001b[0mZ\u001b[0m\u001b[1;33m)\u001b[0m\u001b[1;33m+\u001b[0m\u001b[0mb_2\u001b[0m\u001b[1;33m)\u001b[0m\u001b[1;33m\u001b[0m\u001b[1;33m\u001b[0m\u001b[0m\n\u001b[0;32m     23\u001b[0m         \u001b[0mprint\u001b[0m\u001b[1;33m(\u001b[0m\u001b[0mtmp\u001b[0m\u001b[1;33m.\u001b[0m\u001b[0mshape\u001b[0m\u001b[1;33m)\u001b[0m\u001b[1;33m\u001b[0m\u001b[1;33m\u001b[0m\u001b[0m\n\u001b[1;32m---> 24\u001b[1;33m         \u001b[0mgrad_W2\u001b[0m \u001b[1;33m=\u001b[0m \u001b[1;33m-\u001b[0m\u001b[0mnp\u001b[0m\u001b[1;33m.\u001b[0m\u001b[0msum\u001b[0m\u001b[1;33m(\u001b[0m\u001b[0mtmp_Z\u001b[0m \u001b[1;33m*\u001b[0m \u001b[0mtmp\u001b[0m\u001b[1;33m)\u001b[0m\u001b[1;33m\u001b[0m\u001b[1;33m\u001b[0m\u001b[0m\n\u001b[0m\u001b[0;32m     25\u001b[0m         \u001b[1;31m#b1\u001b[0m\u001b[1;33m\u001b[0m\u001b[1;33m\u001b[0m\u001b[0m\n\u001b[0;32m     26\u001b[0m         \u001b[0mtmp_W_2\u001b[0m \u001b[1;33m=\u001b[0m \u001b[0mnp\u001b[0m\u001b[1;33m.\u001b[0m\u001b[0mcopy\u001b[0m\u001b[1;33m(\u001b[0m\u001b[0mW_2\u001b[0m\u001b[1;33m)\u001b[0m\u001b[1;33m\u001b[0m\u001b[1;33m\u001b[0m\u001b[0m\n",
      "\u001b[1;31mValueError\u001b[0m: operands could not be broadcast together with shapes (60000,300) (10,60000) "
     ]
    }
   ],
   "source": [
    "print('processing')\n",
    "learningrate = 0.3\n",
    "batch = np.arange(60000)\n",
    "\n",
    "#[epoch1]\n",
    "np.random.shuffle(batch)\n",
    "X = x_train.T[batch].T\n",
    "y_train = y_train.T[batch].T\n",
    "Relu1 = Relu()\n",
    "Softmax1 = Softmax()\n",
    "Epoch1 = Epoch()\n",
    "Epoch1.forward(X)\n",
    "theta = Epoch1.backward()\n",
    "b_1 -= learningrate * theta[2]\n",
    "b_2 -= learningrate * theta[0]\n",
    "W_1 -= learningrate * theta[3]\n",
    "W_2 -= learningrate * theta[1]\n",
    "for i in range(4):\n",
    "    print(theta[i])\n",
    "#[epoch2]"
   ]
  },
  {
   "cell_type": "code",
   "execution_count": 160,
   "id": "51da8c72",
   "metadata": {},
   "outputs": [
    {
     "data": {
      "text/plain": [
       "(-1.2176098616780567e-21, -4.1379774348235665e-16, -0.0, -0.0)"
      ]
     },
     "execution_count": 160,
     "metadata": {},
     "output_type": "execute_result"
    }
   ],
   "source": [
    "theta"
   ]
  },
  {
   "cell_type": "code",
   "execution_count": 41,
   "id": "2c4f25ae",
   "metadata": {},
   "outputs": [
    {
     "name": "stdout",
     "output_type": "stream",
     "text": [
      "[[0 0 0]\n",
      " [1 2 3]]\n",
      "[[-1 -2 -3]\n",
      " [ 0  0  0]]\n"
     ]
    },
    {
     "ename": "AttributeError",
     "evalue": "type object 'Epoch' has no attribute 'Y'",
     "output_type": "error",
     "traceback": [
      "\u001b[1;31m---------------------------------------------------------------------------\u001b[0m",
      "\u001b[1;31mAttributeError\u001b[0m                            Traceback (most recent call last)",
      "\u001b[1;32m~\\AppData\\Local\\Temp/ipykernel_17760/968815845.py\u001b[0m in \u001b[0;36m<module>\u001b[1;34m\u001b[0m\n\u001b[0;32m      4\u001b[0m \u001b[0mprint\u001b[0m\u001b[1;33m(\u001b[0m\u001b[0mRelu_test\u001b[0m\u001b[1;33m.\u001b[0m\u001b[0mforward\u001b[0m\u001b[1;33m(\u001b[0m\u001b[0ma\u001b[0m\u001b[1;33m)\u001b[0m\u001b[1;33m)\u001b[0m\u001b[1;33m\u001b[0m\u001b[1;33m\u001b[0m\u001b[0m\n\u001b[0;32m      5\u001b[0m \u001b[0mprint\u001b[0m\u001b[1;33m(\u001b[0m\u001b[0mRelu_test\u001b[0m\u001b[1;33m.\u001b[0m\u001b[0mbackward\u001b[0m\u001b[1;33m(\u001b[0m\u001b[0ma\u001b[0m\u001b[1;33m)\u001b[0m\u001b[1;33m)\u001b[0m\u001b[1;33m\u001b[0m\u001b[1;33m\u001b[0m\u001b[0m\n\u001b[1;32m----> 6\u001b[1;33m \u001b[0mprint\u001b[0m\u001b[1;33m(\u001b[0m\u001b[0mEpoch\u001b[0m\u001b[1;33m.\u001b[0m\u001b[0mY\u001b[0m\u001b[1;33m)\u001b[0m\u001b[1;33m\u001b[0m\u001b[1;33m\u001b[0m\u001b[0m\n\u001b[0m",
      "\u001b[1;31mAttributeError\u001b[0m: type object 'Epoch' has no attribute 'Y'"
     ]
    }
   ],
   "source": [
    "#연습장\n",
    "Relu_test = Relu()\n",
    "a = np.array([[-1,-2,-3],[1,2,3]])\n",
    "print(Relu_test.forward(a))\n",
    "print(Relu_test.backward(a))\n",
    "print(Epoch.Y)"
   ]
  },
  {
   "cell_type": "code",
   "execution_count": 229,
   "id": "6040bb7b",
   "metadata": {},
   "outputs": [
    {
     "name": "stdout",
     "output_type": "stream",
     "text": [
      "[[ 4  1 14 19]\n",
      " [ 5  2 15  8]\n",
      " [ 6  3 16  9]\n",
      " [ 7 12 17 10]\n",
      " [ 0 13 18 11]]\n"
     ]
    }
   ],
   "source": [
    "batch = np.arange(5)\n",
    "np.random.shuffle(batch)\n",
    "a = np.arange(20).reshape(-1,4)[batch].reshape(4,-1)\n",
    "print(a.T)"
   ]
  },
  {
   "cell_type": "code",
   "execution_count": 232,
   "id": "8dc90627",
   "metadata": {},
   "outputs": [
    {
     "data": {
      "text/plain": [
       "array([[ 4,  1, 14, 19],\n",
       "       [ 5,  2, 15,  8],\n",
       "       [ 6,  3, 16,  9],\n",
       "       [ 7, 12, 17, 10],\n",
       "       [ 0, 13, 18, 11]])"
      ]
     },
     "execution_count": 232,
     "metadata": {},
     "output_type": "execute_result"
    }
   ],
   "source": [
    "a.T"
   ]
  },
  {
   "cell_type": "code",
   "execution_count": null,
   "id": "2f2db2a8",
   "metadata": {},
   "outputs": [],
   "source": []
  }
 ],
 "metadata": {
  "colab": {
   "collapsed_sections": [],
   "name": "Untitled.ipynb",
   "provenance": []
  },
  "kernelspec": {
   "display_name": "Python 3 (ipykernel)",
   "language": "python",
   "name": "python3"
  },
  "language_info": {
   "codemirror_mode": {
    "name": "ipython",
    "version": 3
   },
   "file_extension": ".py",
   "mimetype": "text/x-python",
   "name": "python",
   "nbconvert_exporter": "python",
   "pygments_lexer": "ipython3",
   "version": "3.9.7"
  }
 },
 "nbformat": 4,
 "nbformat_minor": 5
}
